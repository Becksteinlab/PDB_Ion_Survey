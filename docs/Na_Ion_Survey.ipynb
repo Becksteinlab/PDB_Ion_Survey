{
 "cells": [
  {
   "cell_type": "markdown",
   "metadata": {
    "deletable": true,
    "editable": true
   },
   "source": [
    "# Na+ Analysis Using pdbionsurvey"
   ]
  },
  {
   "cell_type": "markdown",
   "metadata": {
    "deletable": true,
    "editable": true
   },
   "source": [
    "`pdbionsurvey` is a library that seeks to quantify the interactions between cations and polarized atoms in proteins, namely oxygen. The library attempts to simplify the amount of ad hoc coding that must be done while still maintaining flexibility in its use. Here, we will demonstrate the use of `pdbionsurvey` in analyzing cation/oxygen interactions in proteins. We will use sodium ions (Na+) as our example ion since it is the metallic cation of most prominence in the PDB and is very biologically significant."
   ]
  },
  {
   "cell_type": "markdown",
   "metadata": {
    "deletable": true,
    "editable": true
   },
   "source": [
    "### First Things First: Imports and Variables"
   ]
  },
  {
   "cell_type": "markdown",
   "metadata": {
    "deletable": true,
    "editable": true
   },
   "source": [
    "##### Necessary import statements\n",
    "We need to import a few packages to make things more readily useable."
   ]
  },
  {
   "cell_type": "code",
   "execution_count": null,
   "metadata": {
    "collapsed": false,
    "deletable": true,
    "editable": true
   },
   "outputs": [],
   "source": [
    "# import the library that is being demonstrated\n",
    "import pdbionsurvey.coordination\n",
    "import pdbionsurvey.collection\n",
    "import pdbionsurvey.analysis\n",
    "\n",
    "# needed to make protein universes\n",
    "import MDAnalysis as mda\n",
    "\n",
    "# needed to make and use sims\n",
    "import mdsynthesis as mds\n",
    "\n",
    "# needed for path definitions\n",
    "import os\n",
    "\n",
    "# needed for displaying plots\n",
    "import matplotlib.pyplot as plt\n",
    "%matplotlib inline\n",
    "\n",
    "# needed for simplicity\n",
    "import warnings\n",
    "warnings.filterwarnings('ignore')"
   ]
  },
  {
   "cell_type": "markdown",
   "metadata": {
    "deletable": true,
    "editable": true
   },
   "source": [
    "##### Path definitions\n",
    "\n",
    "We should put all of our files in directories and sort them nicely. In general, these directories can live anywhere, which allows people to use the package to suit their own needs."
   ]
  },
  {
   "cell_type": "code",
   "execution_count": null,
   "metadata": {
    "collapsed": false,
    "deletable": true,
    "editable": true
   },
   "outputs": [],
   "source": [
    "# directory for the pdbs\n",
    "path = mds.Tree('/nfs/homes/kreidy/Projects/PDB_Ion_Survey/pdbs/')\n",
    "\n",
    "# directory for the sims\n",
    "# it is important that this directory is empty,\n",
    "# otherwise, mislabeling may happen later\n",
    "simdir = path['sims_folder/NA/']\n",
    "\n",
    "# directory for DataFrames\n",
    "datapath = path['dataframes']"
   ]
  },
  {
   "cell_type": "code",
   "execution_count": null,
   "metadata": {
    "collapsed": false,
    "deletable": true,
    "editable": true
   },
   "outputs": [],
   "source": [
    "simdir.trees[:3].draw()"
   ]
  },
  {
   "cell_type": "markdown",
   "metadata": {
    "deletable": true,
    "editable": true
   },
   "source": [
    "### Obtaining Data from the PDB"
   ]
  },
  {
   "cell_type": "markdown",
   "metadata": {
    "deletable": true,
    "editable": true
   },
   "source": [
    "### Get PDB ids\n",
    "We need to query the PDB for all of the PDB ids cooresponding to files that contain Na+ ions.\n",
    "\n",
    "`pdbionsurvey.collection.get_pdb_ids` has other parameters that are left with their defaults:  \n",
    "`containsProtein=True` will filter out any molecules that do not contain proteins,  \n",
    "`containsDNA=False` will filter out any molecules that contain DNA (because it's set to false),  \n",
    "`containsRna=False` will filter out any molecules that contain RNA,  \n",
    "and `containsHybrid=False` will filter out any molecules that contain multiple molecule types."
   ]
  },
  {
   "cell_type": "code",
   "execution_count": null,
   "metadata": {
    "collapsed": false,
    "deletable": true,
    "editable": true
   },
   "outputs": [],
   "source": [
    "# find and store the PDB ids\n",
    "ids = pdbionsurvey.collection.get_pdb_ids('Na')\n",
    "\n",
    "# display the number of PDB ids\n",
    "print len(ids)"
   ]
  },
  {
   "cell_type": "markdown",
   "metadata": {
    "deletable": true,
    "editable": true
   },
   "source": [
    "### Download .pdb files corresponding to PDB ids\n",
    "\n",
    "Good to break up scripts into modules and functions to demonstrate how components work to produce data. Separating querying from analysis allows for more understanding and flexibility in use."
   ]
  },
  {
   "cell_type": "code",
   "execution_count": null,
   "metadata": {
    "collapsed": false,
    "deletable": true,
    "editable": true
   },
   "outputs": [],
   "source": [
    "# download each .pdb file individually\n",
    "for pdbid in ids:\n",
    "    pdbionsurvey.collection.get_pdb_file(pdbid, path.abspath)"
   ]
  },
  {
   "cell_type": "code",
   "execution_count": null,
   "metadata": {
    "collapsed": false,
    "deletable": true,
    "editable": true
   },
   "outputs": [],
   "source": [
    "path[:3].draw()"
   ]
  },
  {
   "cell_type": "markdown",
   "metadata": {
    "deletable": true,
    "editable": true
   },
   "source": [
    "### Making Sims\n",
    "\n",
    "We make sims using `mdsynthesis` to store our data so that we can easily access it in the future. We can use `pdbionsurvey.analysis.make_sims` to quickly make them consistently for the purpose of coorcination analysis."
   ]
  },
  {
   "cell_type": "code",
   "execution_count": null,
   "metadata": {
    "collapsed": false,
    "deletable": true,
    "editable": true
   },
   "outputs": [],
   "source": [
    "pdbfiles = [r + '.pdb' for r in ids]\n",
    "print len(pdbfiles)"
   ]
  },
  {
   "cell_type": "code",
   "execution_count": null,
   "metadata": {
    "collapsed": false,
    "deletable": true,
    "editable": true,
    "scrolled": true
   },
   "outputs": [],
   "source": [
    "# make sims\n",
    "sims = pdbionsurvey.analysis.make_sims(simdir, pdbfiles)"
   ]
  },
  {
   "cell_type": "code",
   "execution_count": null,
   "metadata": {
    "collapsed": false,
    "deletable": true,
    "editable": true
   },
   "outputs": [],
   "source": [
    "path[:3].draw()"
   ]
  },
  {
   "cell_type": "markdown",
   "metadata": {
    "collapsed": true,
    "deletable": true,
    "editable": true
   },
   "source": [
    "### Making and Storing Radial Distribution Functions\n",
    "\n",
    "We use MDAnalysis to create a protein Universe and to select the ions that we care about. From there, we can use `pdbionsurvey.coordination.en` to create a radial distribution function for each .pdb file. We then store our data as .csv files for easy access and sorting."
   ]
  },
  {
   "cell_type": "code",
   "execution_count": null,
   "metadata": {
    "collapsed": false,
    "deletable": true,
    "editable": true,
    "scrolled": true
   },
   "outputs": [],
   "source": [
    "pdbionsurvey.analysis.define_universe(sims, pdbfiles)"
   ]
  },
  {
   "cell_type": "code",
   "execution_count": null,
   "metadata": {
    "collapsed": false,
    "deletable": true,
    "editable": true
   },
   "outputs": [],
   "source": [
    "simdir[:3].draw()"
   ]
  },
  {
   "cell_type": "code",
   "execution_count": null,
   "metadata": {
    "collapsed": false,
    "deletable": true,
    "editable": true,
    "scrolled": false
   },
   "outputs": [],
   "source": [
    "for i in sims:\n",
    "    # make a protein Universe\n",
    "    u = mda.Universe(i.universedef.topology)\n",
    "\n",
    "    # select Na atoms\n",
    "    ions = u.select_atoms('name NA')\n",
    "\n",
    "    for ion in ions:\n",
    "        # make radial distribution function\n",
    "        df = pdbionsurvey.coordination.en(u, ion)\n",
    "        \n",
    "        # make directory if it doesn't exist\n",
    "        i['coordination/NA/'].make()\n",
    "\n",
    "        # store radial distribution function in .csv file\n",
    "        df.to_csv(i['coordination/NA/{}.csv'.format(ion.number)].abspath)"
   ]
  },
  {
   "cell_type": "code",
   "execution_count": null,
   "metadata": {
    "collapsed": false,
    "deletable": true,
    "editable": true
   },
   "outputs": [],
   "source": [
    "simdir[:3].draw()"
   ]
  },
  {
   "cell_type": "markdown",
   "metadata": {
    "deletable": true,
    "editable": true
   },
   "source": [
    "### Labeling Sims\n",
    "\n",
    "We should tag all of the sims with the ions they contain, as well as add categories for resolution information and for whether or not water is explicitly contained in the file."
   ]
  },
  {
   "cell_type": "code",
   "execution_count": null,
   "metadata": {
    "collapsed": false,
    "deletable": true,
    "editable": true
   },
   "outputs": [],
   "source": [
    "# label sims\n",
    "pdbionsurvey.analysis.sim_labeling(sims, ionname='Na')"
   ]
  },
  {
   "cell_type": "markdown",
   "metadata": {
    "deletable": true,
    "editable": true
   },
   "source": [
    "### Collecting Sims\n",
    "\n",
    "Using mdsynthesis, we can create a bundle of all of the sims in simdir. We already have this bundle in `sims`, but we might want to do this if we have other sims in our sim directory, or if we want to grab them later from another notebook."
   ]
  },
  {
   "cell_type": "code",
   "execution_count": null,
   "metadata": {
    "collapsed": false,
    "deletable": true,
    "editable": true,
    "scrolled": true
   },
   "outputs": [],
   "source": [
    "# create a Bundle of sims in simdir\n",
    "b = mds.discover(simdir)"
   ]
  },
  {
   "cell_type": "markdown",
   "metadata": {},
   "source": [
    "### Sorting Sims"
   ]
  },
  {
   "cell_type": "markdown",
   "metadata": {},
   "source": [
    "Using mdsynthesis, we can sort this bundle by the tags and categories of the sims."
   ]
  },
  {
   "cell_type": "code",
   "execution_count": null,
   "metadata": {
    "collapsed": false
   },
   "outputs": [],
   "source": [
    "# take only the sims that contain Na+ ions\n",
    "b = b[b.tags['Na']]\n",
    "\n",
    "# take only the sims with resolution information\n",
    "b = b[[r.categories['resolution'] != 'N/A' for r in b]]\n",
    "\n",
    "# take only the sims that contain water oxygens\n",
    "b = b[[w == True for w in b.categories['has_water']]]\n",
    "\n",
    "# take only the sims that do not have an oxygen within 1 Angstrom of the ion\n",
    "b = b[[co > 1 for co in b.categories['closest_oxy']]]"
   ]
  },
  {
   "cell_type": "markdown",
   "metadata": {
    "deletable": true,
    "editable": true
   },
   "source": [
    "### Radial Distribution: g(r)"
   ]
  },
  {
   "cell_type": "markdown",
   "metadata": {},
   "source": [
    "A g(r) is a function relating the distance away from something to the density of something around it. In this case, a g(r) is the relationship between the distance away from a Li+ ion and the density of oxygen atoms. Each point on the graph that we are making can be visualized as a sphere around the ion with the density of oxygens corresponding to the height of the point."
   ]
  },
  {
   "cell_type": "code",
   "execution_count": null,
   "metadata": {
    "collapsed": false,
    "deletable": true,
    "editable": true
   },
   "outputs": [],
   "source": [
    "m, denses = pdbionsurvey.coordination.gee(b, 'NA')"
   ]
  },
  {
   "cell_type": "code",
   "execution_count": null,
   "metadata": {
    "collapsed": false,
    "deletable": true,
    "editable": true
   },
   "outputs": [],
   "source": [
    "fig = plt.figure(figsize=(4,3))\n",
    "ax = fig.add_subplot(1,1,1)\n",
    "ax.set_xlim((1,6))\n",
    "ax.plot(m, denses)"
   ]
  },
  {
   "cell_type": "markdown",
   "metadata": {
    "deletable": true,
    "editable": true
   },
   "source": [
    "### Finding Peaks\n",
    "\n",
    "It may also be useful to find where these solvation shells are exactly. By finding the peaks and troughs of a radial density distribution function, we can see in what bands most of the oxygen atoms lie. The troughs, where relatively few oxygen atoms are, can therefore be used as one boundary of a solvation shell."
   ]
  },
  {
   "cell_type": "code",
   "execution_count": null,
   "metadata": {
    "collapsed": false,
    "deletable": true,
    "editable": true
   },
   "outputs": [],
   "source": [
    "# get peak information\n",
    "m, dense, peaks, mins = pdbionsurvey.analysis.get_peaks(b, 'Na', mindist=.2)"
   ]
  },
  {
   "cell_type": "code",
   "execution_count": null,
   "metadata": {
    "collapsed": false,
    "deletable": true,
    "editable": true,
    "scrolled": true
   },
   "outputs": [],
   "source": [
    "fig = plt.figure(figsize=(4,3))\n",
    "ax = fig.add_subplot(1,1,1)\n",
    "ax.set_xlim((1, 6))\n",
    "ax.set_xlabel('Distance ($\\AA$)')\n",
    "ax.set_ylabel('Oxygen Density')\n",
    "ax.plot(m, dense)\n",
    "ax.plot(m[peaks], dense[peaks], 'o')\n",
    "ax.plot(m[mins], dense[mins], 'o')"
   ]
  },
  {
   "cell_type": "markdown",
   "metadata": {
    "deletable": true,
    "editable": true
   },
   "source": [
    "### Closest Oxygen Distances\n",
    "\n",
    "It is useful in some applications to know the average distance of the n$^\\text{th}$ closest oxygen atom to the ion, particularly for those n's that correspond to the oxygen atoms in the first solvation shell.\n",
    "\n",
    "Here we'll look at the closest six oxygen atoms to all of the Na+ ions in our sample."
   ]
  },
  {
   "cell_type": "code",
   "execution_count": null,
   "metadata": {
    "collapsed": false,
    "deletable": true,
    "editable": true,
    "scrolled": true
   },
   "outputs": [],
   "source": [
    "# get closest oxygen information\n",
    "oxys = pdbionsurvey.analysis.closest_oxy_distance(b, ['Na'], [2.5])"
   ]
  },
  {
   "cell_type": "code",
   "execution_count": null,
   "metadata": {
    "collapsed": false,
    "deletable": true,
    "editable": true,
    "scrolled": true
   },
   "outputs": [],
   "source": [
    "oxys[0].head()"
   ]
  },
  {
   "cell_type": "code",
   "execution_count": null,
   "metadata": {
    "collapsed": false,
    "deletable": true,
    "editable": true,
    "scrolled": false
   },
   "outputs": [],
   "source": [
    "len(oxys[0])"
   ]
  },
  {
   "cell_type": "code",
   "execution_count": null,
   "metadata": {
    "collapsed": false,
    "deletable": true,
    "editable": true,
    "scrolled": false
   },
   "outputs": [],
   "source": [
    "ax = pdbionsurvey.analysis.graph_closest_oxy_distances(oxys[0], axlim=(1, 6))"
   ]
  },
  {
   "cell_type": "markdown",
   "metadata": {
    "collapsed": false,
    "deletable": true,
    "editable": true
   },
   "source": [
    "# Conclusion"
   ]
  },
  {
   "cell_type": "markdown",
   "metadata": {
    "deletable": true,
    "editable": true
   },
   "source": [
    "We can see here that the plots are less choppy than the ones for Li+. It is important to note that the emphasis here should not be on the science but on the computation and using the library, so we won't discuss the analysis of our results with too much depth. It is important to know that the library is structured in such a way that it has a lot of dependency on packages like `MDAnalysis`, `mdsynthesis`, and `peakutils`, and it makes a lot of assumptions about the structure of the Sims it uses, but once these other packages are installed, `pdbionsurvey`  makes it easy to make Sims in the way that it wants."
   ]
  }
 ],
 "metadata": {
  "kernelspec": {
   "display_name": "Python 2",
   "language": "python",
   "name": "python2"
  },
  "language_info": {
   "codemirror_mode": {
    "name": "ipython",
    "version": 2
   },
   "file_extension": ".py",
   "mimetype": "text/x-python",
   "name": "python",
   "nbconvert_exporter": "python",
   "pygments_lexer": "ipython2",
   "version": "2.7.12"
  }
 },
 "nbformat": 4,
 "nbformat_minor": 1
}
