{
 "cells": [
  {
   "cell_type": "markdown",
   "metadata": {
    "deletable": true,
    "editable": true
   },
   "source": [
    "# Li+ Analysis Using pdbionsurvey"
   ]
  },
  {
   "cell_type": "markdown",
   "metadata": {
    "deletable": true,
    "editable": true
   },
   "source": [
    "`pdbionsurvey` is a library that seeks to quantify the interactions between cations and polarized atoms in proteins, namely oxygen. The library attempts to simplify the amount of ad hoc coding that must be done while still maintaining flexibility in its use. Here, we will demonstrate the use of `pdbionsurvey` in analyzing cation/oxygen interactions in proteins. We will use lithium ions (Li+) as our example ion since it is less common than Na+ or K+ which decreases the amount of data to process and therefore the computation time."
   ]
  },
  {
   "cell_type": "markdown",
   "metadata": {
    "deletable": true,
    "editable": true
   },
   "source": [
    "### First Things First: imports and Variables"
   ]
  },
  {
   "cell_type": "markdown",
   "metadata": {
    "deletable": true,
    "editable": true
   },
   "source": [
    "##### Necessary import statements\n",
    "We need to import a few packages to make things more readily useable."
   ]
  },
  {
   "cell_type": "code",
   "execution_count": 1,
   "metadata": {
    "collapsed": false,
    "deletable": true,
    "editable": true
   },
   "outputs": [
    {
     "name": "stderr",
     "output_type": "stream",
     "text": [
      "/usr/local/lib/python2.7/dist-packages/fuzzywuzzy/fuzz.py:35: UserWarning: Using slow pure-python SequenceMatcher. Install python-Levenshtein to remove this warning\n",
      "  warnings.warn('Using slow pure-python SequenceMatcher. Install python-Levenshtein to remove this warning')\n"
     ]
    }
   ],
   "source": [
    "# import the library that is being demonstrated\n",
    "import pdbionsurvey.coordination\n",
    "import pdbionsurvey.collection\n",
    "import pdbionsurvey.analysis\n",
    "\n",
    "# needed to make protein universes\n",
    "import MDAnalysis as mda\n",
    "\n",
    "# needed to make and use sims\n",
    "import mdsynthesis as mds\n",
    "\n",
    "# needed for path definitions\n",
    "import os\n",
    "\n",
    "# needed for displaying plots\n",
    "import matplotlib.pyplot as plt\n",
    "%matplotlib inline\n",
    "\n",
    "# needed for simplicity\n",
    "import warnings\n",
    "warnings.filterwarnings('ignore')"
   ]
  },
  {
   "cell_type": "markdown",
   "metadata": {
    "deletable": true,
    "editable": true
   },
   "source": [
    "##### Path definitions\n",
    "\n",
    "We should put all of our files in directories and sort them nicely. In general, these directories can live anywhere, which allows people to use the package to suit their own needs."
   ]
  },
  {
   "cell_type": "code",
   "execution_count": 2,
   "metadata": {
    "collapsed": false,
    "deletable": true,
    "editable": true
   },
   "outputs": [],
   "source": [
    "# directory for the pdbs\n",
    "path = mds.Tree('/nfs/homes/kreidy/Projects/PDB_Ion_Survey/pdbs/')\n",
    "\n",
    "# directory for the sims\n",
    "# it is important that this directory is empty,\n",
    "# otherwise, mislabeling may happen later\n",
    "simdir = path['sims_folder/LI/']\n",
    "\n",
    "# directory for DataFrames\n",
    "datapath = path['dataframes']"
   ]
  },
  {
   "cell_type": "code",
   "execution_count": 3,
   "metadata": {
    "collapsed": false,
    "deletable": true,
    "editable": true
   },
   "outputs": [
    {
     "name": "stdout",
     "output_type": "stream",
     "text": [
      "1DGD/\n",
      " +-- Sim.000de767-2e37-4f81-bf2c-a47215820559.json\n",
      " +-- 1DGD.pdb\n",
      "1E5K/\n",
      " +-- 1E5K.pdb\n",
      " +-- Sim.3a4dc6cb-7840-48ce-a8cc-60b40f951f6b.json\n",
      "1H4C/\n",
      " +-- 1H4C.pdb\n",
      " +-- Sim.14da99a2-edb4-478f-8783-ce527ce6d11d.json\n"
     ]
    }
   ],
   "source": [
    "simdir.trees[:3].draw()"
   ]
  },
  {
   "cell_type": "markdown",
   "metadata": {
    "deletable": true,
    "editable": true
   },
   "source": [
    "### Obtaining Data from the PDB"
   ]
  },
  {
   "cell_type": "markdown",
   "metadata": {
    "deletable": true,
    "editable": true
   },
   "source": [
    "### Get PDB ids\n",
    "We need to query the PDB for all of the PDB ids cooresponding to files that contain Li+ ions.\n",
    "\n",
    "`pdbionsurvey.collection.get_pdb_ids` has other parameters that are left with their defaults:  \n",
    "`containsProtein=True` will filter out any molecules that do not contain proteins,  \n",
    "`containsDNA=False` will filter out any molecules that contain DNA (because it's set to false),  \n",
    "`containsRna=False` will filter out any molecules that contain RNA,  \n",
    "and `containsHybrid=False` will filter out any molecules that contain multiple molecule types."
   ]
  },
  {
   "cell_type": "code",
   "execution_count": 4,
   "metadata": {
    "collapsed": false,
    "deletable": true,
    "editable": true
   },
   "outputs": [
    {
     "name": "stdout",
     "output_type": "stream",
     "text": [
      "63\n"
     ]
    }
   ],
   "source": [
    "# find and store the PDB ids\n",
    "ids = pdbionsurvey.collection.get_pdb_ids('Li')\n",
    "\n",
    "# display the number of PDB ids\n",
    "print len(ids)"
   ]
  },
  {
   "cell_type": "markdown",
   "metadata": {
    "deletable": true,
    "editable": true
   },
   "source": [
    "### Download .pdb files corresponding to PDB ids\n",
    "\n",
    "Good to break up scripts into modules and functions to demonstrate how components work to produce data. Separating querying from analysis allows for more understanding and flexibility in use."
   ]
  },
  {
   "cell_type": "code",
   "execution_count": 5,
   "metadata": {
    "collapsed": false,
    "deletable": true,
    "editable": true
   },
   "outputs": [],
   "source": [
    "# download each .pdb file individually\n",
    "for pdbid in ids:\n",
    "    pdbionsurvey.collection.get_pdb_file(pdbid, path.abspath)"
   ]
  },
  {
   "cell_type": "markdown",
   "metadata": {
    "deletable": true,
    "editable": true
   },
   "source": [
    "### Making Sims\n",
    "\n",
    "We make sims using `mdsynthesis` to store our data so that we can easily access it in the future. We can use `pdbionsurvey.analysis.make_sims` to quickly make them consistently for the purpose of coorcination analysis."
   ]
  },
  {
   "cell_type": "code",
   "execution_count": 6,
   "metadata": {
    "collapsed": false,
    "deletable": true,
    "editable": true
   },
   "outputs": [],
   "source": [
    "pdbs = path.glob('*.pdb')\n",
    "pdbs = pdbs[[pdb.name in [r + '.pdb' for r in ids] for pdb in pdbs]]"
   ]
  },
  {
   "cell_type": "code",
   "execution_count": 7,
   "metadata": {
    "collapsed": false,
    "deletable": true,
    "editable": true,
    "scrolled": true
   },
   "outputs": [],
   "source": [
    "# make sims\n",
    "sims = pdbionsurvey.analysis.make_sims(simdir, pdbs)"
   ]
  },
  {
   "cell_type": "code",
   "execution_count": 8,
   "metadata": {
    "collapsed": false,
    "deletable": true,
    "editable": true
   },
   "outputs": [
    {
     "name": "stdout",
     "output_type": "stream",
     "text": [
      "1DGD/\n",
      " +-- Sim.000de767-2e37-4f81-bf2c-a47215820559.json\n",
      " +-- 1DGD.pdb\n",
      "1E5K/\n",
      " +-- 1E5K.pdb\n",
      " +-- Sim.3a4dc6cb-7840-48ce-a8cc-60b40f951f6b.json\n",
      "1H4C/\n",
      " +-- 1H4C.pdb\n",
      " +-- Sim.14da99a2-edb4-478f-8783-ce527ce6d11d.json\n"
     ]
    }
   ],
   "source": [
    "simdir.trees[:3].draw()"
   ]
  },
  {
   "cell_type": "markdown",
   "metadata": {
    "collapsed": true,
    "deletable": true,
    "editable": true
   },
   "source": [
    "### Making and Storing Radial Distribution Functions\n",
    "\n",
    "We use MDAnalysis to create a protein Universe and to select the ions that we care about. From there, we can use `pdbionsurvey.coordination.en` to create a radial distribution function for each .pdb file. We then store our data as .csv files for easy access and sorting."
   ]
  },
  {
   "cell_type": "code",
   "execution_count": 9,
   "metadata": {
    "collapsed": false,
    "deletable": true,
    "editable": true,
    "scrolled": true
   },
   "outputs": [],
   "source": [
    "pdbionsurvey.analysis.define_universe(sims, pdbs)"
   ]
  },
  {
   "cell_type": "code",
   "execution_count": 10,
   "metadata": {
    "collapsed": false,
    "deletable": true,
    "editable": true
   },
   "outputs": [
    {
     "name": "stdout",
     "output_type": "stream",
     "text": [
      "1DGD/\n",
      " +-- Sim.000de767-2e37-4f81-bf2c-a47215820559.json\n",
      " +-- 1DGD.pdb\n",
      "1E5K/\n",
      " +-- 1E5K.pdb\n",
      " +-- Sim.3a4dc6cb-7840-48ce-a8cc-60b40f951f6b.json\n",
      "1H4C/\n",
      " +-- 1H4C.pdb\n",
      " +-- Sim.14da99a2-edb4-478f-8783-ce527ce6d11d.json\n"
     ]
    }
   ],
   "source": [
    "simdir.trees[:3].draw()"
   ]
  },
  {
   "cell_type": "code",
   "execution_count": 11,
   "metadata": {
    "collapsed": false,
    "deletable": true,
    "editable": true,
    "scrolled": false
   },
   "outputs": [],
   "source": [
    "for i in sims:\n",
    "    # make a protein Universe\n",
    "    u = mda.Universe(i.universedef.topology)\n",
    "\n",
    "    # select Li atoms\n",
    "    ions = u.select_atoms('name LI')\n",
    "\n",
    "    for ion in ions:\n",
    "        # make radial distribution function\n",
    "        df = pdbionsurvey.coordination.en(u, ion)\n",
    "        \n",
    "        # make directory if it doesn't exist\n",
    "        i['coordination/LI/'].make()\n",
    "\n",
    "        # store radial distribution function in .csv file\n",
    "        df.to_csv(i['coordination/LI/{}.csv'.format(ion.number)].abspath)"
   ]
  },
  {
   "cell_type": "code",
   "execution_count": 12,
   "metadata": {
    "collapsed": false,
    "deletable": true,
    "editable": true
   },
   "outputs": [
    {
     "data": {
      "text/plain": [
       "u'/nfs/homes/kreidy/Projects/PDB_Ion_Survey/pdbs/1DGD.pdb'"
      ]
     },
     "execution_count": 12,
     "metadata": {},
     "output_type": "execute_result"
    }
   ],
   "source": [
    "sims[0].universedef.topology"
   ]
  },
  {
   "cell_type": "code",
   "execution_count": 13,
   "metadata": {
    "collapsed": false,
    "deletable": true,
    "editable": true
   },
   "outputs": [
    {
     "data": {
      "text/plain": [
       "'/nfs/homes/kreidy/Projects/PDB_Ion_Survey/pdbs/sims_folder/LI/1E5K/1E5K.pdb'"
      ]
     },
     "execution_count": 13,
     "metadata": {},
     "output_type": "execute_result"
    }
   ],
   "source": [
    "sims[1].glob('*.pdb')[0].abspath"
   ]
  },
  {
   "cell_type": "code",
   "execution_count": 14,
   "metadata": {
    "collapsed": false,
    "deletable": true,
    "editable": true
   },
   "outputs": [
    {
     "data": {
      "text/plain": [
       "<Universe with 1599 atoms and 28 bonds>"
      ]
     },
     "execution_count": 14,
     "metadata": {},
     "output_type": "execute_result"
    }
   ],
   "source": [
    "mda.Universe(sims[1].glob('*.pdb')[0].abspath)"
   ]
  },
  {
   "cell_type": "code",
   "execution_count": 16,
   "metadata": {
    "collapsed": false,
    "deletable": true,
    "editable": true
   },
   "outputs": [
    {
     "name": "stdout",
     "output_type": "stream",
     "text": [
      "1DGD/\n",
      " +-- Sim.000de767-2e37-4f81-bf2c-a47215820559.json\n",
      " +-- 1DGD.pdb\n",
      " +-- coordination/\n",
      "     +-- LI/\n",
      "         +-- 3248.csv\n",
      "1E5K/\n",
      " +-- coordination/\n",
      " |   +-- LI/\n",
      " |       +-- 1423.csv\n",
      " +-- 1E5K.pdb\n",
      " +-- Sim.3a4dc6cb-7840-48ce-a8cc-60b40f951f6b.json\n",
      "1H4C/\n",
      " +-- 1H4C.pdb\n",
      " +-- coordination/\n",
      " |   +-- LI/\n",
      " |       +-- 1423.csv\n",
      " +-- Sim.14da99a2-edb4-478f-8783-ce527ce6d11d.json\n"
     ]
    }
   ],
   "source": [
    "simdir.trees[:3].draw()"
   ]
  },
  {
   "cell_type": "markdown",
   "metadata": {
    "deletable": true,
    "editable": true
   },
   "source": [
    "### Labeling Sims\n",
    "\n",
    "We should tag all of the sims with the ions they contain, as well as add categories for resolution information and for whether or not water is explicitly contained in the file."
   ]
  },
  {
   "cell_type": "code",
   "execution_count": 17,
   "metadata": {
    "collapsed": false,
    "deletable": true,
    "editable": true
   },
   "outputs": [],
   "source": [
    "# label sims\n",
    "pdbionsurvey.analysis.sim_labeling(sims, ionname='Li')"
   ]
  },
  {
   "cell_type": "markdown",
   "metadata": {
    "deletable": true,
    "editable": true
   },
   "source": [
    "### Collecting Sims\n",
    "\n",
    "Using mdsynthesis, we can create a bundle of all of the sims in simdir. We already have this bundle in `sims`, but we might want to do this if we have other sims in our sim directory, or if we want to grab them later from another notebook.\n",
    "\n",
    "We can then sort these sims using their new tags and categories."
   ]
  },
  {
   "cell_type": "code",
   "execution_count": 18,
   "metadata": {
    "collapsed": false,
    "deletable": true,
    "editable": true,
    "scrolled": false
   },
   "outputs": [],
   "source": [
    "# create a Bundle of sims in simdir\n",
    "b = mds.discover(simdir)"
   ]
  },
  {
   "cell_type": "markdown",
   "metadata": {
    "deletable": true,
    "editable": true
   },
   "source": [
    "### Radial Distribution: g(r)"
   ]
  },
  {
   "cell_type": "markdown",
   "metadata": {
    "deletable": true,
    "editable": true
   },
   "source": [
    "A g(r) is a function relating the distance away from something to the density of something around it. In this case, a g(r) is the relationship between the distance away from a Li+ ion and the density of oxygen atoms. Each point on the graph that we are making can be visualized as a sphere around the ion with the density of oxygens corresponding to the height of the point."
   ]
  },
  {
   "cell_type": "code",
   "execution_count": 19,
   "metadata": {
    "collapsed": false,
    "deletable": true,
    "editable": true,
    "scrolled": true
   },
   "outputs": [],
   "source": [
    "m, denses = pdbionsurvey.coordination.gee(b, 'LI')"
   ]
  },
  {
   "cell_type": "code",
   "execution_count": 20,
   "metadata": {
    "collapsed": false,
    "deletable": true,
    "editable": true
   },
   "outputs": [
    {
     "data": {
      "text/plain": [
       "[<matplotlib.lines.Line2D at 0x7faaa2c73190>]"
      ]
     },
     "execution_count": 20,
     "metadata": {},
     "output_type": "execute_result"
    },
    {
     "data": {
      "image/png": "[encoded data removed]",
      "text/plain": [
       "<matplotlib.figure.Figure at 0x7faa8c9f8410>"
      ]
     },
     "metadata": {},
     "output_type": "display_data"
    }
   ],
   "source": [
    "fig = plt.figure(figsize=(4,3))\n",
    "ax = fig.add_subplot(1,1,1)\n",
    "ax.set_xlabel('Distance ($\\AA$)')\n",
    "ax.set_ylabel('Oxygen Density')\n",
    "ax.set_xlim((1,6))\n",
    "ax.plot(m, denses)"
   ]
  },
  {
   "cell_type": "markdown",
   "metadata": {
    "deletable": true,
    "editable": true
   },
   "source": [
    "### Finding Peaks\n",
    "\n",
    "It may also be useful to find where these solvation shells are exactly. By finding the peaks and troughs of a radial density distribution function, we can see in what bands most of the oxygen atoms lie. The troughs, where relatively few oxygen atoms are, can therefore be used as one boundary of a solvation shell."
   ]
  },
  {
   "cell_type": "code",
   "execution_count": 21,
   "metadata": {
    "collapsed": false,
    "deletable": true,
    "editable": true
   },
   "outputs": [],
   "source": [
    "# get peak information\n",
    "m, dense, peaks, mins = pdbionsurvey.analysis.get_peaks(b, 'Li', mindist=.2)"
   ]
  },
  {
   "cell_type": "code",
   "execution_count": 22,
   "metadata": {
    "collapsed": false,
    "deletable": true,
    "editable": true,
    "scrolled": true
   },
   "outputs": [
    {
     "data": {
      "text/plain": [
       "[<matplotlib.lines.Line2D at 0x7faa7fb9a950>]"
      ]
     },
     "execution_count": 22,
     "metadata": {},
     "output_type": "execute_result"
    },
    {
     "data": {
      "image/png": "[encoded data removed]",
      "text/plain": [
       "<matplotlib.figure.Figure at 0x7faa81be2b90>"
      ]
     },
     "metadata": {},
     "output_type": "display_data"
    }
   ],
   "source": [
    "fig = plt.figure(figsize=(4,3))\n",
    "ax = fig.add_subplot(1,1,1)\n",
    "ax.set_xlim((1, 6))\n",
    "ax.set_xlabel('Distance ($\\AA$)')\n",
    "ax.set_ylabel('Oxygen Density')\n",
    "ax.plot(m, dense)\n",
    "ax.plot(m[peaks], dense[peaks], 'o')\n",
    "ax.plot(m[mins], dense[mins], 'o')"
   ]
  },
  {
   "cell_type": "markdown",
   "metadata": {
    "deletable": true,
    "editable": true
   },
   "source": [
    "### Closest Oxygen Distances\n",
    "\n",
    "It is useful in some applications to know the average distance of the n$^\\text{th}$ closest oxygen atom to the ion, particularly for those n's that correspond to the oxygen atoms in the first solvation shell.\n",
    "\n",
    "Here we'll look at the closest six oxygen atoms to all of the Li+ ions in our sample."
   ]
  },
  {
   "cell_type": "code",
   "execution_count": 23,
   "metadata": {
    "collapsed": false,
    "deletable": true,
    "editable": true,
    "scrolled": true
   },
   "outputs": [],
   "source": [
    "# get closest oxygen information\n",
    "oxys = pdbionsurvey.analysis.closest_oxy_distance(b, ['Li'], [2.5])"
   ]
  },
  {
   "cell_type": "code",
   "execution_count": 24,
   "metadata": {
    "collapsed": false,
    "deletable": true,
    "editable": true,
    "scrolled": true
   },
   "outputs": [
    {
     "data": {
      "text/html": [
       "<div>\n",
       "<table border=\"1\" class=\"dataframe\">\n",
       "  <thead>\n",
       "    <tr style=\"text-align: right;\">\n",
       "      <th></th>\n",
       "      <th>1</th>\n",
       "      <th>2</th>\n",
       "      <th>3</th>\n",
       "      <th>4</th>\n",
       "      <th>5</th>\n",
       "      <th>6</th>\n",
       "    </tr>\n",
       "  </thead>\n",
       "  <tbody>\n",
       "    <tr>\n",
       "      <th>5FOH_1670</th>\n",
       "      <td>2.039432</td>\n",
       "      <td>3.572074</td>\n",
       "      <td>3.814925</td>\n",
       "      <td>3.961905</td>\n",
       "      <td>4.216130</td>\n",
       "      <td>4.444806</td>\n",
       "    </tr>\n",
       "    <tr>\n",
       "      <th>3C31_4337</th>\n",
       "      <td>1.859302</td>\n",
       "      <td>1.883259</td>\n",
       "      <td>1.955296</td>\n",
       "      <td>1.990423</td>\n",
       "      <td>3.533900</td>\n",
       "      <td>3.684128</td>\n",
       "    </tr>\n",
       "    <tr>\n",
       "      <th>3C31_4368</th>\n",
       "      <td>1.732123</td>\n",
       "      <td>1.932449</td>\n",
       "      <td>2.013333</td>\n",
       "      <td>2.037104</td>\n",
       "      <td>3.493592</td>\n",
       "      <td>3.502325</td>\n",
       "    </tr>\n",
       "    <tr>\n",
       "      <th>3QEU_6862</th>\n",
       "      <td>1.813947</td>\n",
       "      <td>1.859980</td>\n",
       "      <td>1.889302</td>\n",
       "      <td>1.918563</td>\n",
       "      <td>2.017432</td>\n",
       "      <td>2.207255</td>\n",
       "    </tr>\n",
       "    <tr>\n",
       "      <th>2I3I_1531</th>\n",
       "      <td>1.805357</td>\n",
       "      <td>1.815221</td>\n",
       "      <td>1.856789</td>\n",
       "      <td>3.522641</td>\n",
       "      <td>4.163842</td>\n",
       "      <td>4.178793</td>\n",
       "    </tr>\n",
       "  </tbody>\n",
       "</table>\n",
       "</div>"
      ],
      "text/plain": [
       "                  1         2         3         4         5         6\n",
       "5FOH_1670  2.039432  3.572074  3.814925  3.961905  4.216130  4.444806\n",
       "3C31_4337  1.859302  1.883259  1.955296  1.990423  3.533900  3.684128\n",
       "3C31_4368  1.732123  1.932449  2.013333  2.037104  3.493592  3.502325\n",
       "3QEU_6862  1.813947  1.859980  1.889302  1.918563  2.017432  2.207255\n",
       "2I3I_1531  1.805357  1.815221  1.856789  3.522641  4.163842  4.178793"
      ]
     },
     "execution_count": 24,
     "metadata": {},
     "output_type": "execute_result"
    }
   ],
   "source": [
    "oxys[0].head()"
   ]
  },
  {
   "cell_type": "code",
   "execution_count": 25,
   "metadata": {
    "collapsed": false,
    "deletable": true,
    "editable": true,
    "scrolled": false
   },
   "outputs": [
    {
     "data": {
      "text/plain": [
       "89"
      ]
     },
     "execution_count": 25,
     "metadata": {},
     "output_type": "execute_result"
    }
   ],
   "source": [
    "len(oxys[0])"
   ]
  },
  {
   "cell_type": "code",
   "execution_count": 26,
   "metadata": {
    "collapsed": false,
    "deletable": true,
    "editable": true,
    "scrolled": false
   },
   "outputs": [
    {
     "data": {
      "image/png": "[encoded data removed]",
      "text/plain": [
       "<matplotlib.figure.Figure at 0x7faa8b6b4610>"
      ]
     },
     "metadata": {},
     "output_type": "display_data"
    }
   ],
   "source": [
    "ax = pdbionsurvey.analysis.graph_closest_oxy_distances(oxys[0], axlim=(1, 6))"
   ]
  },
  {
   "cell_type": "markdown",
   "metadata": {
    "collapsed": false,
    "deletable": true,
    "editable": true
   },
   "source": [
    "# Conclusion"
   ]
  },
  {
   "cell_type": "markdown",
   "metadata": {
    "deletable": true,
    "editable": true
   },
   "source": [
    "We can see here that some of the plots that we generated are rather choppy. This is most likely because of the relative lack of data for Li+. It is important to note that the emphasis here should not be on the science but on the computation and using the library, so we won't discuss the analysis of our results with too much depth. It is important to know that the library is structured in such a way that it has a lot of dependency on packages like `MDAnalysis`, `mdsynthesis`, and `peakutils`, and it makes a lot of assumptions about the structure of the Sims it uses, but once these other packages are installed, `pdbionsurvey`  makes it easy to make Sims in the way that it wants."
   ]
  }
 ],
 "metadata": {
  "kernelspec": {
   "display_name": "Python 2",
   "language": "python",
   "name": "python2"
  },
  "language_info": {
   "codemirror_mode": {
    "name": "ipython",
    "version": 2
   },
   "file_extension": ".py",
   "mimetype": "text/x-python",
   "name": "python",
   "nbconvert_exporter": "python",
   "pygments_lexer": "ipython2",
   "version": "2.7.12"
  }
 },
 "nbformat": 4,
 "nbformat_minor": 1
}
